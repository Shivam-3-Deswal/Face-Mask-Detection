{
 "cells": [
  {
   "cell_type": "code",
   "execution_count": 1,
   "id": "60c43487",
   "metadata": {},
   "outputs": [],
   "source": [
    "import cv2\n",
    "import os\n",
    "import numpy as np\n",
    "from sklearn.svm import SVC\n",
    "from sklearn.metrics import accuracy_score\n",
    "from sklearn.model_selection import train_test_split\n",
    "from sklearn.decomposition import PCA\n",
    "\n",
    "cv2_base_dir = os.path.dirname(os.path.abspath(cv2.__file__)) \n",
    "haar_model = os.path.join(cv2_base_dir, 'data/haarcascade_frontalface_default.xml')\n",
    "haar_data = cv2.CascadeClassifier('data.xml')\n",
    "face_cascade = cv2.CascadeClassifier('haarcascade_frontalface_default.xml')\n",
    "face_cascade = cv2.CascadeClassifier(cv2.data.haarcascades + 'haarcascade_frontalface_default.xml')"
   ]
  },
  {
   "cell_type": "code",
   "execution_count": 2,
   "id": "fe6fd8e9",
   "metadata": {},
   "outputs": [],
   "source": [
    "with_mask = np.load(\"with_mask.npy\")"
   ]
  },
  {
   "cell_type": "code",
   "execution_count": 3,
   "id": "fd0a1f09",
   "metadata": {},
   "outputs": [],
   "source": [
    "without_mask = np.load(\"without_mask.npy\")"
   ]
  },
  {
   "cell_type": "code",
   "execution_count": 4,
   "id": "6697faf4",
   "metadata": {},
   "outputs": [
    {
     "data": {
      "text/plain": [
       "(200, 50, 50, 3)"
      ]
     },
     "execution_count": 4,
     "metadata": {},
     "output_type": "execute_result"
    }
   ],
   "source": [
    "with_mask.shape"
   ]
  },
  {
   "cell_type": "code",
   "execution_count": 5,
   "id": "291bc2da",
   "metadata": {},
   "outputs": [
    {
     "data": {
      "text/plain": [
       "(200, 50, 50, 3)"
      ]
     },
     "execution_count": 5,
     "metadata": {},
     "output_type": "execute_result"
    }
   ],
   "source": [
    "without_mask.shape"
   ]
  },
  {
   "cell_type": "code",
   "execution_count": 6,
   "id": "8b46a441",
   "metadata": {},
   "outputs": [],
   "source": [
    "with_mask = with_mask.reshape(200,50*50*3)\n",
    "without_mask = without_mask.reshape(200,50*50*3)"
   ]
  },
  {
   "cell_type": "code",
   "execution_count": 7,
   "id": "504a1759",
   "metadata": {},
   "outputs": [
    {
     "data": {
      "text/plain": [
       "(200, 7500)"
      ]
     },
     "execution_count": 7,
     "metadata": {},
     "output_type": "execute_result"
    }
   ],
   "source": [
    "with_mask.shape"
   ]
  },
  {
   "cell_type": "code",
   "execution_count": 8,
   "id": "c091d51c",
   "metadata": {},
   "outputs": [
    {
     "data": {
      "text/plain": [
       "(200, 7500)"
      ]
     },
     "execution_count": 8,
     "metadata": {},
     "output_type": "execute_result"
    }
   ],
   "source": [
    "without_mask.shape"
   ]
  },
  {
   "cell_type": "code",
   "execution_count": 9,
   "id": "0fe6c717",
   "metadata": {},
   "outputs": [],
   "source": [
    "x = np.r_[with_mask,without_mask]"
   ]
  },
  {
   "cell_type": "code",
   "execution_count": 10,
   "id": "33e01684",
   "metadata": {},
   "outputs": [
    {
     "data": {
      "text/plain": [
       "(400, 7500)"
      ]
     },
     "execution_count": 10,
     "metadata": {},
     "output_type": "execute_result"
    }
   ],
   "source": [
    "x.shape"
   ]
  },
  {
   "cell_type": "code",
   "execution_count": 11,
   "id": "34e7d8af",
   "metadata": {},
   "outputs": [],
   "source": [
    "labels = np.zeros(x.shape[0])"
   ]
  },
  {
   "cell_type": "code",
   "execution_count": 12,
   "id": "dc5f7852",
   "metadata": {},
   "outputs": [],
   "source": [
    "labels[200:] = 1"
   ]
  },
  {
   "cell_type": "code",
   "execution_count": 13,
   "id": "0a70c060",
   "metadata": {},
   "outputs": [],
   "source": [
    "names = {0 : \"MASK\", 1 : \"NO MASK\"}"
   ]
  },
  {
   "cell_type": "code",
   "execution_count": 14,
   "id": "24f9be7a",
   "metadata": {},
   "outputs": [],
   "source": [
    "x_train,x_test,y_train,y_test = train_test_split(x,labels,test_size = 0.22)"
   ]
  },
  {
   "cell_type": "code",
   "execution_count": 15,
   "id": "3f753f9d",
   "metadata": {},
   "outputs": [
    {
     "data": {
      "text/plain": [
       "(312, 7500)"
      ]
     },
     "execution_count": 15,
     "metadata": {},
     "output_type": "execute_result"
    }
   ],
   "source": [
    "x_train.shape"
   ]
  },
  {
   "cell_type": "code",
   "execution_count": 16,
   "id": "ee63dd73",
   "metadata": {},
   "outputs": [],
   "source": [
    "pca = PCA(n_components = 3)\n",
    "x_train = pca.fit_transform(x_train)"
   ]
  },
  {
   "cell_type": "code",
   "execution_count": 17,
   "id": "7cb909dd",
   "metadata": {},
   "outputs": [
    {
     "data": {
      "text/plain": [
       "(312, 3)"
      ]
     },
     "execution_count": 17,
     "metadata": {},
     "output_type": "execute_result"
    }
   ],
   "source": [
    "x_train.shape"
   ]
  },
  {
   "cell_type": "code",
   "execution_count": 18,
   "id": "2ab3ab6b",
   "metadata": {},
   "outputs": [],
   "source": [
    "svm = SVC()\n",
    "svm.fit(x_train,y_train)\n",
    "\n",
    "x_test = pca.transform(x_test)\n",
    "y_pred = svm.predict(x_test)"
   ]
  },
  {
   "cell_type": "code",
   "execution_count": null,
   "id": "d1bc8f64",
   "metadata": {},
   "outputs": [],
   "source": [
    "capture = cv2.VideoCapture(0)\n",
    "font = cv2.FONT_HERSHEY_COMPLEX\n",
    "while True:\n",
    "    flag,img = capture.read()\n",
    "    if flag:\n",
    "        faces = face_cascade.detectMultiScale(img)\n",
    "        for x,y,w,h in faces:\n",
    "            cv2.rectangle(img, (x,y), (x+w,y+h), (255,0,255), 4)\n",
    "            face = img[y:y+h, x:x+w, :]\n",
    "            face = cv2.resize(face,(50,50)) \n",
    "            face = face.reshape(1,-1)\n",
    "            face = pca.transform(face)\n",
    "            pred = svm.predict(face)\n",
    "            n = names[int(pred)]\n",
    "            cv2.putText(img,n, (x,y), font, 1, (244,259,250), 2)\n",
    "        cv2.imshow(\"Result\",img)\n",
    "        if cv2.waitKey(2) == 27:\n",
    "            break\n",
    "capture.release()\n",
    "cv2.destroyAllWindows()"
   ]
  }
 ],
 "metadata": {
  "kernelspec": {
   "display_name": "Python 3",
   "language": "python",
   "name": "python3"
  },
  "language_info": {
   "codemirror_mode": {
    "name": "ipython",
    "version": 3
   },
   "file_extension": ".py",
   "mimetype": "text/x-python",
   "name": "python",
   "nbconvert_exporter": "python",
   "pygments_lexer": "ipython3",
   "version": "3.9.5"
  }
 },
 "nbformat": 4,
 "nbformat_minor": 5
}
